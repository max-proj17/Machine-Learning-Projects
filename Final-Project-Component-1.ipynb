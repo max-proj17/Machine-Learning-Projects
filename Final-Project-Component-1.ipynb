{
 "cells": [
  {
   "cell_type": "code",
   "execution_count": 2,
   "metadata": {},
   "outputs": [],
   "source": [
    "%matplotlib inline\n",
    "import numpy as np\n",
    "import matplotlib.pyplot as plt\n",
    "from scipy import stats\n",
    "from sklearn.datasets import fetch_openml\n",
    "import pickle\n",
    "from scipy.special import expit\n",
    "from sklearn.model_selection import train_test_split\n",
    "from sklearn.preprocessing import PolynomialFeatures"
   ]
  },
  {
   "cell_type": "markdown",
   "metadata": {},
   "source": [
    "## Open MNIST data and create a subset with desired digits\n",
    "MNIST dataset contains 70,000 images of hand-written digits from 0 to 9. Each image has a grey-scale resolution of 28 $\\times$ 28 (i.e., 784 pixels). Each pixel has an integer value ranging from 0 (bright) to 255 (dark).\n",
    "\n",
    "<font color=red>Change the code below to select a different subset </font>"
   ]
  },
  {
   "cell_type": "code",
   "execution_count": 3,
   "metadata": {},
   "outputs": [
    {
     "name": "stderr",
     "output_type": "stream",
     "text": [
      "c:\\Users\\maxfi\\AppData\\Local\\Programs\\Python\\Python310\\lib\\site-packages\\sklearn\\datasets\\_openml.py:1002: FutureWarning: The default value of `parser` will change from `'liac-arff'` to `'auto'` in 1.4. You can set `parser='auto'` to silence this warning. Therefore, an `ImportError` will be raised from 1.4 if the dataset is dense and pandas is not installed. Note that the pandas parser may return different data types. See the Notes Section in fetch_openml's API doc for details.\n",
      "  warn(\n"
     ]
    },
    {
     "name": "stdout",
     "output_type": "stream",
     "text": [
      "4239\n"
     ]
    }
   ],
   "source": [
    "# I picked classes 2 and 3 instead of 0 and 1 as indicated \n",
    "# in the above instructions, but the instructions on the \n",
    "# icon pdf for this project say to use 0 and 1.\n",
    "\n",
    "X, y = fetch_openml(\"mnist_784\", version=1, return_X_y=True, as_frame=False)\n",
    "y = np.asarray([int(numeric_string) for numeric_string in y])\n",
    "\n",
    "# Change the conditions below to compare between other two digits.\n",
    "class1Indices = (y==2)\n",
    "class2Indices = (y==3)\n",
    "\n",
    "x1 = X[class1Indices]\n",
    "x2 = X[class2Indices]\n",
    "\n",
    "\n",
    "#TESTING ONLY\n",
    "\n",
    "# Count the number of images for digits 2 and 3\n",
    "number_of_class1_images = np.sum(class1Indices)\n",
    "number_of_class2_images = np.sum(class2Indices)\n",
    "\n",
    "# Total images of digits 2 and 3\n",
    "total_images_2_and_3 = number_of_class1_images + number_of_class2_images\n",
    "\n",
    "# Calculate the number of test images as 30% of the total images of digits 2 and 3\n",
    "test_set_proportion = 0.3\n",
    "number_of_test_images = int(total_images_2_and_3 * test_set_proportion)\n",
    "\n",
    "# Print out the number of test images\n",
    "print(number_of_test_images)\n",
    "\n",
    "\n",
    "##################################\n",
    "\n",
    "Xtrain = np.concatenate((x1,x2),axis=0)\n",
    "ytrain = np.concatenate((np.zeros(x1.shape[0]),np.ones(x2.shape[0])),axis=0)\n",
    "\n",
    "# Saving the temporary variables for fast retrieval\n",
    "with open('temp.pickle', 'wb') as handle:\n",
    "    pickle.dump([Xtrain, ytrain], handle)\n",
    "\n"
   ]
  },
  {
   "cell_type": "markdown",
   "metadata": {},
   "source": [
    "# Split the data to training, testing, and validation subsets"
   ]
  },
  {
   "cell_type": "code",
   "execution_count": 4,
   "metadata": {},
   "outputs": [],
   "source": [
    "# loading the temporary variables for fast retrieval\n",
    "with open('temp.pickle', 'rb') as handle:\n",
    "    Xtrain, ytrain = pickle.load(handle)\n",
    "    \n",
    "# Split the data to training, testing, and validation subsets\n",
    "    \n",
    "X_train, X_test, y_train, y_test = train_test_split(Xtrain, ytrain, test_size=0.3, random_state=1)\n",
    "\n",
    "X_train, X_val, y_train, y_val = train_test_split(X_train, y_train, test_size=2/3, random_state=1) # 0.25 x 0.8 = 0.2\n",
    "\n",
    "\n",
    "Nsamples = X_train.shape[0]\n",
    "Nfeatures = X_train.shape[1]\n"
   ]
  },
  {
   "cell_type": "markdown",
   "metadata": {},
   "source": [
    "# Accuracy of a classifier"
   ]
  },
  {
   "cell_type": "code",
   "execution_count": 5,
   "metadata": {},
   "outputs": [],
   "source": [
    "# Function to test classifier accuracy\n",
    "def testLinearClassifier(a, X, y):\n",
    "    X_b = np.c_[np.ones((X.shape[0], 1)), X]  # add bias term\n",
    "    predictions = X_b.dot(a)\n",
    "    predictions = (predictions > 0).astype(int)\n",
    "    misclassifications = np.sum(predictions != y.reshape(-1, 1))\n",
    "    return misclassifications\n",
    "\n",
    "def calculate_percent_error(misclassifications, total_samples):\n",
    "    return (misclassifications / total_samples) * 100\n",
    "\n",
    "def transform_samples_using_eigenvectors(X, U, mean):\n",
    "    # Subtract the mean from each sample\n",
    "    X_centered = X - mean\n",
    "\n",
    "    # Project onto the eigenvectors\n",
    "    X_transformed = np.dot(X_centered, U.T)\n",
    "    return X_transformed"
   ]
  },
  {
   "cell_type": "markdown",
   "metadata": {},
   "source": [
    "## Define and test gaussianClassifierWithIdentityCovariance "
   ]
  },
  {
   "cell_type": "code",
   "execution_count": 6,
   "metadata": {},
   "outputs": [
    {
     "name": "stdout",
     "output_type": "stream",
     "text": [
      "Training percent error rate: 6.824385805277525%\n",
      "Validation percent error rate: 6.960873521383075%\n",
      "Test percent error rate: 6.721698113207547%\n"
     ]
    },
    {
     "data": {
      "image/png": "[encoded data removed]",
      "text/plain": [
       "<Figure size 640x480 with 1 Axes>"
      ]
     },
     "metadata": {},
     "output_type": "display_data"
    }
   ],
   "source": [
    "#------TRAINING CODE --------------\n",
    "\n",
    "# Gaussian Classifier with Identity Covariance\n",
    "def gaussianClassifierWithIdentityCovariance(Xtrain, ytrain):\n",
    "    mean1 = np.mean(Xtrain[ytrain == 0], axis=0)\n",
    "    mean2 = np.mean(Xtrain[ytrain == 1], axis=0)\n",
    "    a = np.insert(mean2 - mean1, 0, 0).reshape(-1, 1)  # inserting bias term\n",
    "    return a\n",
    "\n",
    "\n",
    "#------SIMPLE TESTING ON THE TRAINING DATA ITSELF --------------\n",
    "\n",
    "# Compute the covariance matrix and its eigen decomposition\n",
    "mean = np.mean(X_train, axis=0)\n",
    "cov_matrix = np.cov(X_train.T)\n",
    "eigen_values, eigen_vectors = np.linalg.eigh(cov_matrix)\n",
    "\n",
    "# Apply the transformation to the training, validation, and test datasets\n",
    "X_train_transformed = transform_samples_using_eigenvectors(X_train, eigen_vectors, mean)\n",
    "X_val_transformed = transform_samples_using_eigenvectors(X_val, eigen_vectors, mean)\n",
    "X_test_transformed = transform_samples_using_eigenvectors(X_test, eigen_vectors, mean)\n",
    "\n",
    "a = gaussianClassifierWithIdentityCovariance(X_train_transformed, y_train)\n",
    "plt.imshow(np.reshape(a[0:784],(28,28)))\n",
    "\n",
    "# Test the classifier on PCA-transformed data\n",
    "train = testLinearClassifier(a, X_train_transformed, y_train)\n",
    "val = testLinearClassifier(a, X_val_transformed, y_val)\n",
    "test = testLinearClassifier(a, X_test_transformed, y_test)\n",
    "\n",
    "# Calculate and print the percent error rates\n",
    "train_error_rate = calculate_percent_error(train, len(X_train))\n",
    "val_error_rate = calculate_percent_error(val, len(X_val))\n",
    "test_error_rate = calculate_percent_error(test, len(X_test))\n",
    "\n",
    "print(f\"Training percent error rate: {train_error_rate}%\")\n",
    "print(f\"Validation percent error rate: {val_error_rate}%\")\n",
    "print(f\"Test percent error rate: {test_error_rate}%\")\n",
    "\n"
   ]
  },
  {
   "cell_type": "markdown",
   "metadata": {},
   "source": [
    "## Define and test gaussianClassifierWithCommonCovariance "
   ]
  },
  {
   "cell_type": "code",
   "execution_count": 7,
   "metadata": {},
   "outputs": [
    {
     "data": {
      "image/png": "[encoded data removed]",
      "text/plain": [
       "<Figure size 640x480 with 1 Axes>"
      ]
     },
     "metadata": {},
     "output_type": "display_data"
    }
   ],
   "source": [
    "#------TRAINING CODE --------------\n",
    "\n",
    "# Gaussian Classifier with Common Covariance\n",
    "def gaussianClassifierWithCommonCovariance(Xtrain, ytrain, reg_lambda=1e-4):\n",
    "    mean1 = np.mean(Xtrain[ytrain == 0], axis=0)\n",
    "    mean2 = np.mean(Xtrain[ytrain == 1], axis=0)\n",
    "    covariance = np.cov(Xtrain.T)\n",
    "    \n",
    "    # Regularization to avoid singular matrix\n",
    "    covariance += np.eye(covariance.shape[0]) * reg_lambda\n",
    "    \n",
    "    covariance_inv = np.linalg.inv(covariance)\n",
    "    a = np.insert(covariance_inv.dot(mean2 - mean1), 0, 0).reshape(-1, 1)  # inserting bias term\n",
    "    return a\n",
    "    \n",
    "#------SIMPLE TESTING ON THE TRAINING DATA ITSELF --------------\n",
    "a = gaussianClassifierWithCommonCovariance(X_train,y_train)\n",
    "plt.imshow(np.reshape(a[0:784],(28,28)))\n",
    "\n",
    "train = testLinearClassifier(a,X_train,y_train)\n",
    "val = testLinearClassifier(a,X_val,y_val)\n",
    "test = testLinearClassifier(a,X_test,y_test)\n"
   ]
  },
  {
   "cell_type": "markdown",
   "metadata": {},
   "source": [
    "## Define and test logisticRegression \n",
    "\n",
    "You may choose the step size as 1e-4. You can try changing it.\n",
    "\n",
    "Use the expit() function from scipy.special.expit to implement sigmoid without overflow errors "
   ]
  },
  {
   "cell_type": "code",
   "execution_count": 8,
   "metadata": {},
   "outputs": [
    {
     "name": "stdout",
     "output_type": "stream",
     "text": [
      "Training percent error rate: 1.6681831968456171%\n",
      "Validation percent error rate: 3.002729754322111%\n",
      "Test percent error rate: 3.9150943396226414%\n"
     ]
    },
    {
     "data": {
      "image/png": "[encoded data removed]",
      "text/plain": [
       "<Figure size 640x480 with 1 Axes>"
      ]
     },
     "metadata": {},
     "output_type": "display_data"
    }
   ],
   "source": [
    "# Logistic Regression\n",
    "def logisticRegression(Xtrain, ytrain, iterations, step_size, verbose=False):\n",
    "    a = 0.01 * np.random.randn(Nfeatures + 1, 1)\n",
    "    X_b = np.c_[np.ones((Xtrain.shape[0], 1)), Xtrain]  # add bias term\n",
    "    \n",
    "    for _ in range(iterations):\n",
    "        predictions = expit(X_b.dot(a))\n",
    "        gradient = X_b.T.dot(predictions - ytrain.reshape(-1, 1))\n",
    "        a -= step_size * gradient\n",
    "    \n",
    "    return a\n",
    "\n",
    "#------SIMPLE TESTING ON THE TRAINING DATA ITSELF --------------\n",
    "a = logisticRegression(X_train,y_train,iterations=500,step_size=1e-6, verbose=False)\n",
    "plt.imshow(np.reshape(a[0:784],(28,28)))\n",
    "\n",
    "train = testLinearClassifier(a,X_train,y_train)\n",
    "val = testLinearClassifier(a,X_val,y_val)\n",
    "test = testLinearClassifier(a,X_test,y_test)\n",
    "\n",
    "# Total samples in each dataset\n",
    "total_train_samples = len(X_train)\n",
    "total_val_samples = len(X_val)\n",
    "total_test_samples = len(X_test)\n",
    "\n",
    "# Calculate percent error rate for each dataset\n",
    "train_error_rate = calculate_percent_error(train, total_train_samples)\n",
    "val_error_rate = calculate_percent_error(val, total_val_samples)\n",
    "test_error_rate = calculate_percent_error(test, total_test_samples)\n",
    "\n",
    "# Print the error rates\n",
    "print(f\"Training percent error rate: {train_error_rate}%\")\n",
    "print(f\"Validation percent error rate: {val_error_rate}%\")\n",
    "print(f\"Test percent error rate: {test_error_rate}%\")\n",
    "\n"
   ]
  },
  {
   "cell_type": "code",
   "execution_count": 9,
   "metadata": {},
   "outputs": [
    {
     "name": "stdout",
     "output_type": "stream",
     "text": [
      "Training misclassifications: 77\n",
      "Validation misclassifications: 204\n",
      "Test misclassifications: 147\n",
      "Training percent error rate: 2.335456475583864%\n",
      "Validation percent error rate: 3.0937215650591448%\n",
      "Test percent error rate: 3.4669811320754715%\n"
     ]
    },
    {
     "data": {
      "image/png": "[encoded data removed]",
      "text/plain": [
       "<Figure size 640x480 with 1 Axes>"
      ]
     },
     "metadata": {},
     "output_type": "display_data"
    }
   ],
   "source": [
    "# Logistic Regression with Regularization\n",
    "def logisticRegressionWithRegularization(Xtrain, ytrain, iterations=100, step_size=1e-6, lam=0, verbose=False):\n",
    "    a = 0.01 * np.random.randn(Nfeatures + 1, 1)\n",
    "    X_b = np.c_[np.ones((Xtrain.shape[0], 1)), Xtrain]  # add bias term\n",
    "    \n",
    "    for _ in range(iterations):\n",
    "        predictions = expit(X_b.dot(a))\n",
    "        gradient = X_b.T.dot(predictions - ytrain.reshape(-1, 1)) + lam * np.vstack([np.zeros((1, 1)), a[1:]])\n",
    "        a -= step_size * gradient\n",
    "    \n",
    "    return a\n",
    "\n",
    "    \n",
    "#------SIMPLE TESTING ON THE TRAINING DATA ITSELF --------------\n",
    "# Function to calculate the percent error rate\n",
    "\n",
    "\n",
    "\n",
    "\n",
    "a = logisticRegressionWithRegularization(X_train,y_train,iterations=500,verbose=False,lam=1)\n",
    "plt.imshow(np.reshape(a[0:784],(28,28)))\n",
    "\n",
    "train = testLinearClassifier(a,X_train,y_train)\n",
    "val = testLinearClassifier(a,X_val,y_val)\n",
    "test = testLinearClassifier(a,X_test,y_test)\n",
    "\n",
    "# Total samples in each dataset\n",
    "total_train_samples = len(X_train)\n",
    "total_val_samples = len(X_val)\n",
    "total_test_samples = len(X_test)\n",
    "\n",
    "\n",
    "print(f\"Training misclassifications: {train}\")\n",
    "print(f\"Validation misclassifications: {val}\")\n",
    "print(f\"Test misclassifications: {test}\")\n",
    "\n",
    "# Calculate percent error rate for each dataset\n",
    "train_error_rate = calculate_percent_error(train, total_train_samples)\n",
    "val_error_rate = calculate_percent_error(val, total_val_samples)\n",
    "test_error_rate = calculate_percent_error(test, total_test_samples)\n",
    "\n",
    "# Print the error rates\n",
    "print(f\"Training percent error rate: {train_error_rate}%\")\n",
    "print(f\"Validation percent error rate: {val_error_rate}%\")\n",
    "print(f\"Test percent error rate: {test_error_rate}%\")\n",
    "\n"
   ]
  },
  {
   "cell_type": "code",
   "execution_count": 10,
   "metadata": {},
   "outputs": [
    {
     "name": "stdout",
     "output_type": "stream",
     "text": [
      "Best Lambda:  739.072203352579\n",
      "Test percent error rate:  3.985849056603773 %\n"
     ]
    }
   ],
   "source": [
    "# Function to optimize hyperparameters\n",
    "def optimizeHyperparameters(Xtrain, ytrain, Xval, yval):\n",
    "    best_lambda = 0\n",
    "    min_misclassifications = float('inf')\n",
    "    \n",
    "    for lam in np.logspace(-4, 4, 100):\n",
    "        a = logisticRegressionWithRegularization(Xtrain, ytrain, iterations=500, lam=lam)\n",
    "        misclassifications = testLinearClassifier(a, Xval, yval)\n",
    "        if misclassifications < min_misclassifications:\n",
    "            min_misclassifications = misclassifications\n",
    "            best_lambda = lam\n",
    "    print(\"Best Lambda: \", best_lambda)\n",
    "    return logisticRegressionWithRegularization(Xtrain, ytrain, iterations=500, lam=best_lambda)\n",
    "\n",
    "# Optimize hyperparameters and get the model trained with the best lambda\n",
    "a_best = optimizeHyperparameters(X_train, y_train, X_val, y_val)\n",
    "\n",
    "# Testing\n",
    "total_test_samples = len(X_test)\n",
    "test_misclassifications = testLinearClassifier(a_best, X_test, y_test)\n",
    "test_error_rate = (test_misclassifications / total_test_samples) * 100\n",
    "\n",
    "print(\"Test percent error rate: \", test_error_rate, \"%\")\n"
   ]
  },
  {
   "cell_type": "markdown",
   "metadata": {},
   "source": [
    "# REPORT TEST ERRORS OF THE BEST MODELS\n",
    "\n",
    "YOUR CODE BELOW"
   ]
  },
  {
   "cell_type": "code",
   "execution_count": 11,
   "metadata": {},
   "outputs": [
    {
     "name": "stdout",
     "output_type": "stream",
     "text": [
      "Best Lambda:  0.026560877829466867\n",
      "Identity Covariance Gaussian Classifier Error Rate: 6.676102854446804\n",
      "Common Covariance Gaussian Classifier Error Rate: 5.2842651568766215\n",
      "Logistic Regression Error Rate: 3.821656050955414\n",
      "Regularized Logistic Regression Error Rate: 3.845246520405756\n"
     ]
    }
   ],
   "source": [
    "# Training and evaluating classifiers on the new subset\n",
    "a1 = gaussianClassifierWithIdentityCovariance(X_train, y_train)\n",
    "a2 = gaussianClassifierWithCommonCovariance(X_train, y_train, reg_lambda=1e-4)\n",
    "a3 = logisticRegression(X_train, y_train, iterations=500, step_size=1e-6)\n",
    "a4 = optimizeHyperparameters(X_train, y_train, X_val, y_val)\n",
    "\n",
    "# Testing classifiers on the new subset ((missclassifications))\n",
    "train1 = testLinearClassifier(a1, X_test, y_test)\n",
    "train2 = testLinearClassifier(a2, X_test, y_test)\n",
    "train3 = testLinearClassifier(a3, X_test, y_test)\n",
    "train4 = testLinearClassifier(a4, X_test, y_test)\n",
    "\n",
    "# Displaying results for the new subset (2, 3)\n",
    "error_rate_identity = (train1 / number_of_test_images) * 100\n",
    "error_rate_common = (train2 / number_of_test_images) * 100\n",
    "error_rate_logistic = (train3 / number_of_test_images) * 100\n",
    "error_rate_regularized = (train4 / number_of_test_images) * 100\n",
    "\n",
    "print(\"Identity Covariance Gaussian Classifier Error Rate:\", error_rate_identity)\n",
    "print(\"Common Covariance Gaussian Classifier Error Rate:\", error_rate_common)\n",
    "print(\"Logistic Regression Error Rate:\", error_rate_logistic)\n",
    "print(\"Regularized Logistic Regression Error Rate:\", error_rate_regularized)\n",
    "\n",
    "\n",
    "# Tests: \n",
    "# Identity Covariance Gaussian Classifier | Learning Rate:  Iterations:\n",
    "# Common Covariance Gaussian Classifier | Learning Rate: 1e-4  Iterations:\n",
    "# Logistic Regression | Learning Rate:  Iterations:\n",
    "# Regularized Logistic Regression | Learning Rate:  Iterations:\n",
    "#\n",
    "#\n",
    "# outputs\n",
    "\n",
    "# 1. Best Lambda:  0.03199267137797385\n",
    "# Identity Covariance Gaussian Classifier Error Rate: 6.770464732248172\n",
    "# Common Covariance Gaussian Classifier Error Rate: 4.411417787213965\n",
    "# Logistic Regression Error Rate: 3.8688369898560984\n",
    "# Regularized Logistic Regression Error Rate: 3.0903514979948103\n",
    "\n",
    "\n"
   ]
  },
  {
   "cell_type": "markdown",
   "metadata": {},
   "source": []
  }
 ],
 "metadata": {
  "anaconda-cloud": {},
  "kernelspec": {
   "display_name": "Python 3 (ipykernel)",
   "language": "python",
   "name": "python3"
  },
  "language_info": {
   "codemirror_mode": {
    "name": "ipython",
    "version": 3
   },
   "file_extension": ".py",
   "mimetype": "text/x-python",
   "name": "python",
   "nbconvert_exporter": "python",
   "pygments_lexer": "ipython3",
   "version": "3.10.6"
  }
 },
 "nbformat": 4,
 "nbformat_minor": 4
}
